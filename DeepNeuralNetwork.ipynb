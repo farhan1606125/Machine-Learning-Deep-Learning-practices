{
 "cells": [
  {
   "cell_type": "code",
   "execution_count": 13,
   "metadata": {},
   "outputs": [],
   "source": [
    "import torch\n",
    "\n",
    "import torch.nn as nn\n",
    "\n",
    "class NetRelu(nn.Module):\n",
    "    def __init__(self,D_in,H1,H2,D_out):\n",
    "        \n",
    "        super(NetRelu,self).__init__()\n",
    "        \n",
    "        self.linear1=nn.Linear(D_in,H1)\n",
    "        self.linear2=nn.Linear(H1,H2)\n",
    "        self.linear3=nn.Linear(H2,D_out)\n",
    "        \n",
    "    def forward(self,x):\n",
    "        x=torch.relu(self.linear1(x))\n",
    "    \n",
    "        x= torch.relu(self.linear2(x))\n",
    "        \n",
    "        x=self.linear3(x)\n",
    "        \n",
    "        return x"
   ]
  },
  {
   "cell_type": "code",
   "execution_count": 14,
   "metadata": {},
   "outputs": [],
   "source": [
    "import torchvision\n",
    "\n",
    "import torchvision.transforms as transforms\n",
    "\n",
    "train_datasets=torchvision.datasets.MNIST(root='./data',train=True,download=True,transform=transforms.ToTensor())\n",
    "\n",
    "validation_dataset=torchvision.datasets.MNIST(root='./data',train=True,download=True,transform=transforms.ToTensor())"
   ]
  },
  {
   "cell_type": "code",
   "execution_count": 15,
   "metadata": {},
   "outputs": [],
   "source": [
    "train_loader=torch.utils.data.DataLoader(dataset=train_datasets,batch_size=2000)\n",
    "\n",
    "validation_loader=torch.utils.data.DataLoader(dataset=validation_dataset,batch_size=5000)"
   ]
  },
  {
   "cell_type": "code",
   "execution_count": 16,
   "metadata": {},
   "outputs": [],
   "source": [
    "def train(model,criterion,train_loader,validation_loader,optimizer,epochs=100):\n",
    "    i=0\n",
    "    useful_stuff={'training_loss':[],'validation_accuracy':[]}\n",
    "    \n",
    "    for epoch in range(epochs):\n",
    "        for i,(x,y) in enumerate(train_loader):\n",
    "            \n",
    "            optimizer.zero_grad()\n",
    "            z=model(x.view(-1,28*28))\n",
    "            loss=criterion(z,y)\n",
    "            loss.backward()\n",
    "            optimizer.step()\n",
    "            useful_stuff['training_loss'].append(loss.data.item())\n",
    "        correct=0\n",
    "    \n",
    "        for x,y in validation_loader:\n",
    "            z=model(x.view(-1,28*28))\n",
    "            _,label=torch.max(z,1)\n",
    "            correct+=(label==y).sum().item()\n",
    "        accuracy=100*(correct/len(validation_dataset))\n",
    "    useful_stuff['validation_accuracy'].append(accuracy)\n",
    "    return useful_stuff"
   ]
  },
  {
   "cell_type": "code",
   "execution_count": 17,
   "metadata": {},
   "outputs": [],
   "source": [
    "model=NetRelu(784,50,50,10)\n",
    "train_loader=torch.utils.data.DataLoader(dataset=train_datasets,batch_size=2000)\n",
    "\n",
    "validation_loader=torch.utils.data.DataLoader(dataset=validation_dataset,batch_size=5000)\n",
    "\n",
    "criterion=nn.CrossEntropyLoss()\n",
    "\n",
    "optimizer=torch.optim.SGD(model.parameters(),lr=0.01)"
   ]
  },
  {
   "cell_type": "code",
   "execution_count": 18,
   "metadata": {},
   "outputs": [],
   "source": [
    "training_results=train(model,criterion,train_loader,validation_loader,optimizer,epochs=30)"
   ]
  },
  {
   "cell_type": "code",
   "execution_count": null,
   "metadata": {},
   "outputs": [],
   "source": []
  }
 ],
 "metadata": {
  "kernelspec": {
   "display_name": "Python 3",
   "language": "python",
   "name": "python3"
  },
  "language_info": {
   "codemirror_mode": {
    "name": "ipython",
    "version": 3
   },
   "file_extension": ".py",
   "mimetype": "text/x-python",
   "name": "python",
   "nbconvert_exporter": "python",
   "pygments_lexer": "ipython3",
   "version": "3.6.8"
  }
 },
 "nbformat": 4,
 "nbformat_minor": 2
}
