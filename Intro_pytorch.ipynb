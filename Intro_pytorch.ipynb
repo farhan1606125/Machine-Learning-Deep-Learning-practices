{
 "cells": [
  {
   "cell_type": "code",
   "execution_count": 4,
   "metadata": {},
   "outputs": [],
   "source": [
    "import torch\n",
    "\n",
    "import torch.nn as nn\n",
    "\n",
    "import torch.nn.functional as F"
   ]
  },
  {
   "cell_type": "code",
   "execution_count": 5,
   "metadata": {},
   "outputs": [],
   "source": [
    "x=torch.Tensor(3,3)"
   ]
  },
  {
   "cell_type": "code",
   "execution_count": 6,
   "metadata": {},
   "outputs": [
    {
     "data": {
      "text/plain": [
       "tensor([[1.1112e-38, 9.5511e-39, 1.0102e-38],\n",
       "        [1.0286e-38, 1.0194e-38, 9.6429e-39],\n",
       "        [9.2755e-39, 9.1837e-39, 9.3674e-39]])"
      ]
     },
     "execution_count": 6,
     "metadata": {},
     "output_type": "execute_result"
    }
   ],
   "source": [
    "x\n"
   ]
  },
  {
   "cell_type": "code",
   "execution_count": 7,
   "metadata": {},
   "outputs": [],
   "source": [
    "y=torch.rand(3,3)"
   ]
  },
  {
   "cell_type": "code",
   "execution_count": 8,
   "metadata": {},
   "outputs": [
    {
     "data": {
      "text/plain": [
       "tensor([[0.5578, 0.5365, 0.3175],\n",
       "        [0.4212, 0.6654, 0.7358],\n",
       "        [0.5120, 0.2630, 0.3736]])"
      ]
     },
     "execution_count": 8,
     "metadata": {},
     "output_type": "execute_result"
    }
   ],
   "source": [
    "y"
   ]
  },
  {
   "cell_type": "code",
   "execution_count": 9,
   "metadata": {},
   "outputs": [
    {
     "data": {
      "text/plain": [
       "tensor([[0., 0.],\n",
       "        [0., 0.],\n",
       "        [0., 0.]])"
      ]
     },
     "execution_count": 9,
     "metadata": {},
     "output_type": "execute_result"
    }
   ],
   "source": [
    "x=torch.Tensor(3,3)*5\n",
    "x[:,0:2]"
   ]
  },
  {
   "cell_type": "code",
   "execution_count": 10,
   "metadata": {},
   "outputs": [],
   "source": [
    "class Net(nn.Module):\n",
    "    \n",
    "    def __init__(self):\n",
    "        super(Net,self).__init__()\n",
    "        self.conv1=nn.Conv2d(1,64,kernel_size=(3,3),padding=1)\n",
    "        self.conv2=nn.Conv2d(64,64,kernel_size=(3,3),padding=1)\n",
    "        self.max_pool=nn.MaxPool2d(2,2)\n",
    "        \n",
    "        self.global_pool=nn.AvgPool2d(7)\n",
    "        \n",
    "        self.fc1=nn.Linear(64,64)\n",
    "        self.fc2=nn.Linear(64,10)\n",
    "        \n",
    "    def forward(self,x):\n",
    "        x=F.relu(self.conv1(x))\n",
    "        \n",
    "        x=F.relu(self.conv2(x))\n",
    "\n",
    "        x=self.max_pool(x)\n",
    "        \n",
    "        \n",
    "        x=F.relu(self.conv2(x))\n",
    "        \n",
    "        x=F.relu(self.conv2(x))\n",
    "        \n",
    "        x=self.max_pool(x)\n",
    "        \n",
    "        \n",
    "        x=F.relu(self.conv2(x))\n",
    "        \n",
    "        x=F.relu(self.conv2(x))\n",
    "        \n",
    "        x=self.global_pool(x)\n",
    "        \n",
    "        x=x.view(-1,64)\n",
    "        \n",
    "        x=F.relu(self.fc1(x))\n",
    "        \n",
    "        x=self.fc2(x)\n",
    "        \n",
    "        x=f.log_softmax(x)\n",
    "        \n",
    "        \n",
    "        return x\n",
    "\n",
    "        \n",
    "        \n",
    "        \n",
    "        "
   ]
  },
  {
   "cell_type": "code",
   "execution_count": null,
   "metadata": {},
   "outputs": [],
   "source": []
  }
 ],
 "metadata": {
  "kernelspec": {
   "display_name": "Python 3",
   "language": "python",
   "name": "python3"
  },
  "language_info": {
   "codemirror_mode": {
    "name": "ipython",
    "version": 3
   },
   "file_extension": ".py",
   "mimetype": "text/x-python",
   "name": "python",
   "nbconvert_exporter": "python",
   "pygments_lexer": "ipython3",
   "version": "3.6.8"
  }
 },
 "nbformat": 4,
 "nbformat_minor": 2
}
