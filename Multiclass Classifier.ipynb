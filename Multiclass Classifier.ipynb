{
 "cells": [
  {
   "cell_type": "code",
   "execution_count": 1,
   "metadata": {},
   "outputs": [],
   "source": [
    "import torch\n",
    "from torch.nn import Linear\n",
    "\n",
    "torch.manual_seed(1)\n",
    "\n",
    "model=Linear(in_features=2,out_features=1)\n",
    "\n",
    "list(model.parameters())\n",
    "\n",
    "model.state_dict()\n",
    "\n",
    "X=torch.tensor([[1.0,1.0],[1.0,2.0],[1.0,3.0]])\n",
    "yhat=model(X)\n",
    "\n",
    "\n",
    "\n"
   ]
  },
  {
   "cell_type": "code",
   "execution_count": 2,
   "metadata": {},
   "outputs": [
    {
     "data": {
      "text/plain": [
       "tensor([[-0.0848],\n",
       "        [-0.3969],\n",
       "        [-0.7090]], grad_fn=<AddmmBackward>)"
      ]
     },
     "execution_count": 2,
     "metadata": {},
     "output_type": "execute_result"
    }
   ],
   "source": [
    "yhat"
   ]
  },
  {
   "cell_type": "code",
   "execution_count": 5,
   "metadata": {},
   "outputs": [],
   "source": [
    "import torch.nn as nn\n",
    "class LR(nn.Module):\n",
    "    def __init__(self,input_size,output_size):\n",
    "        super(LR,self).__init__()\n",
    "        self.linear=nn.Linear(input_size,output_size)\n",
    "        \n",
    "    def forward(self,x):\n",
    "        out=self.linear(x)\n",
    "        return out\n",
    "        "
   ]
  },
  {
   "cell_type": "code",
   "execution_count": 6,
   "metadata": {},
   "outputs": [],
   "source": [
    "from torch.nn import Linear\n",
    "\n",
    "torch.manual_seed(1)\n",
    "\n",
    "model=LR(input_size=2,output_size=1)\n",
    "\n"
   ]
  },
  {
   "cell_type": "code",
   "execution_count": 7,
   "metadata": {},
   "outputs": [],
   "source": [
    "from torch import nn,optim"
   ]
  },
  {
   "cell_type": "code",
   "execution_count": 8,
   "metadata": {},
   "outputs": [],
   "source": [
    "class LR(nn.Module):\n",
    "    def __init__(self,input_size,output_size):\n",
    "        super(LR,self).__init__()\n",
    "        self.linear=nn.Linear(input_size,output_size)\n",
    "        \n",
    "    def forward(self,x):\n",
    "        out=self.linear(x)\n",
    "        return out\n",
    "        "
   ]
  },
  {
   "cell_type": "code",
   "execution_count": 11,
   "metadata": {},
   "outputs": [],
   "source": [
    "from torch.utils.data import Dataset,DataLoader\n",
    "\n",
    "class Data2D(Dataset):\n",
    "    \n",
    "    def __init__(self):\n",
    "        \n",
    "        self.x=torch.zeros(20,2)\n",
    "        \n",
    "        self.x[:,0]=torch.arange(-1,1,0.1)\n",
    "        self.x[:,1]=torch.arange(-1,1,0.1)\n",
    "        \n",
    "        self.w=torch.tensor([[1.0],[1.0]])\n",
    "        \n",
    "        self.b=1\n",
    "        \n",
    "        self.f=torch.mm(self.x,self.w)+self.b\n",
    "        \n",
    "        self.y=self.f+0.1*torch.randn((self.x.shape[0],1))\n",
    "        \n",
    "        self.len=self.x.shape[0]\n",
    "        \n",
    "    def __getitem__(self,index):\n",
    "        \n",
    "        return self.x[index],self.y[index]\n",
    "    \n",
    "    def __len__(self):\n",
    "        return self.len\n",
    "   "
   ]
  },
  {
   "cell_type": "code",
   "execution_count": 12,
   "metadata": {},
   "outputs": [],
   "source": [
    "data_set=Data2D()\n",
    "\n",
    "criterion=nn.MSELoss()\n",
    "\n",
    "trainloader=DataLoader(dataset=data_set,batch_size=2)\n",
    "\n",
    "model=LR(input_size=2,output_size=1)\n",
    "\n",
    "optimizer=optim.SGD(model.parameters(),lr=0.1)\n",
    "\n"
   ]
  },
  {
   "cell_type": "code",
   "execution_count": 13,
   "metadata": {},
   "outputs": [],
   "source": [
    "for epoch in range(100):\n",
    "    \n",
    "    for x,y in trainloader:\n",
    "        yhat=model(x)\n",
    "        \n",
    "        loss=criterion(yhat,y)\n",
    "        \n",
    "        optimizer.zero_grad()\n",
    "        \n",
    "        loss.backward()\n",
    "        \n",
    "        optimizer.step()\n",
    "        "
   ]
  },
  {
   "cell_type": "code",
   "execution_count": null,
   "metadata": {},
   "outputs": [],
   "source": []
  }
 ],
 "metadata": {
  "kernelspec": {
   "display_name": "Python 3",
   "language": "python",
   "name": "python3"
  },
  "language_info": {
   "codemirror_mode": {
    "name": "ipython",
    "version": 3
   },
   "file_extension": ".py",
   "mimetype": "text/x-python",
   "name": "python",
   "nbconvert_exporter": "python",
   "pygments_lexer": "ipython3",
   "version": "3.6.8"
  }
 },
 "nbformat": 4,
 "nbformat_minor": 2
}
