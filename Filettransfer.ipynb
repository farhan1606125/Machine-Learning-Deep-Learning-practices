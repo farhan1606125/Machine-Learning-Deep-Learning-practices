{
 "cells": [
  {
   "cell_type": "code",
   "execution_count": 2,
   "metadata": {},
   "outputs": [],
   "source": [
    "import os\n",
    "import shutil\n",
    "\n",
    "# --------------------------------------------------------\n",
    "reorg_dir = \"Cancer_mask/\"\n",
    "target_dir = \"Cancer_mask_final/\" \n",
    "# ---------------------------------------------------------\n",
    "for root, dirs, files in os.walk(reorg_dir):\n",
    "    for name in files:\n",
    "        subject = root+\"/\"+name\n",
    "        n = 3297; name_orig = name\n",
    "        while os.path.exists(target_dir+\"/\"+name):\n",
    "            name = name_orig; n = n+1\n",
    "        newfile = target_dir+\"/\"+name; shutil.copy(subject, newfile)\n",
    "    "
   ]
  },
  {
   "cell_type": "code",
   "execution_count": null,
   "metadata": {},
   "outputs": [],
   "source": []
  }
 ],
 "metadata": {
  "kernelspec": {
   "display_name": "Python 3",
   "language": "python",
   "name": "python3"
  },
  "language_info": {
   "codemirror_mode": {
    "name": "ipython",
    "version": 3
   },
   "file_extension": ".py",
   "mimetype": "text/x-python",
   "name": "python",
   "nbconvert_exporter": "python",
   "pygments_lexer": "ipython3",
   "version": "3.5.6"
  }
 },
 "nbformat": 4,
 "nbformat_minor": 2
}
