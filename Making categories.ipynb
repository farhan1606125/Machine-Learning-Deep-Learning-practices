{
 "cells": [
  {
   "cell_type": "code",
   "execution_count": 2,
   "metadata": {},
   "outputs": [],
   "source": [
    "import pandas as pd\n",
    "\n",
    "category=pd.read_csv('dataset.csv')"
   ]
  },
  {
   "cell_type": "code",
   "execution_count": 3,
   "metadata": {},
   "outputs": [
    {
     "data": {
      "text/html": [
       "<div>\n",
       "<style>\n",
       "    .dataframe thead tr:only-child th {\n",
       "        text-align: right;\n",
       "    }\n",
       "\n",
       "    .dataframe thead th {\n",
       "        text-align: left;\n",
       "    }\n",
       "\n",
       "    .dataframe tbody tr th {\n",
       "        vertical-align: top;\n",
       "    }\n",
       "</style>\n",
       "<table border=\"1\" class=\"dataframe\">\n",
       "  <thead>\n",
       "    <tr style=\"text-align: right;\">\n",
       "      <th></th>\n",
       "      <th>Unnamed: 0</th>\n",
       "      <th>label</th>\n",
       "      <th>frame_pos</th>\n",
       "      <th>sensor</th>\n",
       "      <th>raw_filenames</th>\n",
       "      <th>video_hash</th>\n",
       "      <th>patient</th>\n",
       "      <th>patient_hash</th>\n",
       "      <th>hospital</th>\n",
       "      <th>filename</th>\n",
       "    </tr>\n",
       "  </thead>\n",
       "  <tbody>\n",
       "    <tr>\n",
       "      <th>0</th>\n",
       "      <td>0</td>\n",
       "      <td>[1 1 1]</td>\n",
       "      <td>0</td>\n",
       "      <td>convex</td>\n",
       "      <td>['convex_LUS1_score.mat', 'convex_LUS1.mat']</td>\n",
       "      <td>2a27295f2d7ffbf4777e442c583dd2a7</td>\n",
       "      <td>Paziente 1</td>\n",
       "      <td>e6ce8cf82c30fa81b57970e73aa35c87</td>\n",
       "      <td>Germania</td>\n",
       "      <td>000000.npy</td>\n",
       "    </tr>\n",
       "    <tr>\n",
       "      <th>1</th>\n",
       "      <td>1</td>\n",
       "      <td>[1 1 1]</td>\n",
       "      <td>1</td>\n",
       "      <td>convex</td>\n",
       "      <td>['convex_LUS1_score.mat', 'convex_LUS1.mat']</td>\n",
       "      <td>2a27295f2d7ffbf4777e442c583dd2a7</td>\n",
       "      <td>Paziente 1</td>\n",
       "      <td>e6ce8cf82c30fa81b57970e73aa35c87</td>\n",
       "      <td>Germania</td>\n",
       "      <td>000001.npy</td>\n",
       "    </tr>\n",
       "    <tr>\n",
       "      <th>2</th>\n",
       "      <td>2</td>\n",
       "      <td>[1 1 1]</td>\n",
       "      <td>2</td>\n",
       "      <td>convex</td>\n",
       "      <td>['convex_LUS1_score.mat', 'convex_LUS1.mat']</td>\n",
       "      <td>2a27295f2d7ffbf4777e442c583dd2a7</td>\n",
       "      <td>Paziente 1</td>\n",
       "      <td>e6ce8cf82c30fa81b57970e73aa35c87</td>\n",
       "      <td>Germania</td>\n",
       "      <td>000002.npy</td>\n",
       "    </tr>\n",
       "    <tr>\n",
       "      <th>3</th>\n",
       "      <td>3</td>\n",
       "      <td>[1 1 1]</td>\n",
       "      <td>3</td>\n",
       "      <td>convex</td>\n",
       "      <td>['convex_LUS1_score.mat', 'convex_LUS1.mat']</td>\n",
       "      <td>2a27295f2d7ffbf4777e442c583dd2a7</td>\n",
       "      <td>Paziente 1</td>\n",
       "      <td>e6ce8cf82c30fa81b57970e73aa35c87</td>\n",
       "      <td>Germania</td>\n",
       "      <td>000003.npy</td>\n",
       "    </tr>\n",
       "    <tr>\n",
       "      <th>4</th>\n",
       "      <td>4</td>\n",
       "      <td>[1 1 1]</td>\n",
       "      <td>4</td>\n",
       "      <td>convex</td>\n",
       "      <td>['convex_LUS1_score.mat', 'convex_LUS1.mat']</td>\n",
       "      <td>2a27295f2d7ffbf4777e442c583dd2a7</td>\n",
       "      <td>Paziente 1</td>\n",
       "      <td>e6ce8cf82c30fa81b57970e73aa35c87</td>\n",
       "      <td>Germania</td>\n",
       "      <td>000004.npy</td>\n",
       "    </tr>\n",
       "  </tbody>\n",
       "</table>\n",
       "</div>"
      ],
      "text/plain": [
       "   Unnamed: 0    label  frame_pos  sensor  \\\n",
       "0           0  [1 1 1]          0  convex   \n",
       "1           1  [1 1 1]          1  convex   \n",
       "2           2  [1 1 1]          2  convex   \n",
       "3           3  [1 1 1]          3  convex   \n",
       "4           4  [1 1 1]          4  convex   \n",
       "\n",
       "                                  raw_filenames  \\\n",
       "0  ['convex_LUS1_score.mat', 'convex_LUS1.mat']   \n",
       "1  ['convex_LUS1_score.mat', 'convex_LUS1.mat']   \n",
       "2  ['convex_LUS1_score.mat', 'convex_LUS1.mat']   \n",
       "3  ['convex_LUS1_score.mat', 'convex_LUS1.mat']   \n",
       "4  ['convex_LUS1_score.mat', 'convex_LUS1.mat']   \n",
       "\n",
       "                         video_hash     patient  \\\n",
       "0  2a27295f2d7ffbf4777e442c583dd2a7  Paziente 1   \n",
       "1  2a27295f2d7ffbf4777e442c583dd2a7  Paziente 1   \n",
       "2  2a27295f2d7ffbf4777e442c583dd2a7  Paziente 1   \n",
       "3  2a27295f2d7ffbf4777e442c583dd2a7  Paziente 1   \n",
       "4  2a27295f2d7ffbf4777e442c583dd2a7  Paziente 1   \n",
       "\n",
       "                       patient_hash  hospital    filename  \n",
       "0  e6ce8cf82c30fa81b57970e73aa35c87  Germania  000000.npy  \n",
       "1  e6ce8cf82c30fa81b57970e73aa35c87  Germania  000001.npy  \n",
       "2  e6ce8cf82c30fa81b57970e73aa35c87  Germania  000002.npy  \n",
       "3  e6ce8cf82c30fa81b57970e73aa35c87  Germania  000003.npy  \n",
       "4  e6ce8cf82c30fa81b57970e73aa35c87  Germania  000004.npy  "
      ]
     },
     "execution_count": 3,
     "metadata": {},
     "output_type": "execute_result"
    }
   ],
   "source": [
    "category.head()"
   ]
  },
  {
   "cell_type": "code",
   "execution_count": 4,
   "metadata": {
    "collapsed": true
   },
   "outputs": [],
   "source": [
    "category_1=category[651:1229]"
   ]
  },
  {
   "cell_type": "code",
   "execution_count": 5,
   "metadata": {},
   "outputs": [
    {
     "data": {
      "text/html": [
       "<div>\n",
       "<style>\n",
       "    .dataframe thead tr:only-child th {\n",
       "        text-align: right;\n",
       "    }\n",
       "\n",
       "    .dataframe thead th {\n",
       "        text-align: left;\n",
       "    }\n",
       "\n",
       "    .dataframe tbody tr th {\n",
       "        vertical-align: top;\n",
       "    }\n",
       "</style>\n",
       "<table border=\"1\" class=\"dataframe\">\n",
       "  <thead>\n",
       "    <tr style=\"text-align: right;\">\n",
       "      <th></th>\n",
       "      <th>Unnamed: 0</th>\n",
       "      <th>label</th>\n",
       "      <th>frame_pos</th>\n",
       "      <th>sensor</th>\n",
       "      <th>raw_filenames</th>\n",
       "      <th>video_hash</th>\n",
       "      <th>patient</th>\n",
       "      <th>patient_hash</th>\n",
       "      <th>hospital</th>\n",
       "      <th>filename</th>\n",
       "    </tr>\n",
       "  </thead>\n",
       "  <tbody>\n",
       "    <tr>\n",
       "      <th>651</th>\n",
       "      <td>651</td>\n",
       "      <td>[1 1 0]</td>\n",
       "      <td>0</td>\n",
       "      <td>convex</td>\n",
       "      <td>['convex_202003061327250047ABD_score.mat', 'co...</td>\n",
       "      <td>ee33bf3d12134c5f9c2b67e09415316a</td>\n",
       "      <td>Paziente 1</td>\n",
       "      <td>ea421172c0515cb11eaefecb90906ca1</td>\n",
       "      <td>Brescia</td>\n",
       "      <td>000651.npy</td>\n",
       "    </tr>\n",
       "    <tr>\n",
       "      <th>652</th>\n",
       "      <td>652</td>\n",
       "      <td>[1 1 0]</td>\n",
       "      <td>1</td>\n",
       "      <td>convex</td>\n",
       "      <td>['convex_202003061327250047ABD_score.mat', 'co...</td>\n",
       "      <td>ee33bf3d12134c5f9c2b67e09415316a</td>\n",
       "      <td>Paziente 1</td>\n",
       "      <td>ea421172c0515cb11eaefecb90906ca1</td>\n",
       "      <td>Brescia</td>\n",
       "      <td>000652.npy</td>\n",
       "    </tr>\n",
       "    <tr>\n",
       "      <th>653</th>\n",
       "      <td>653</td>\n",
       "      <td>[1 1 0]</td>\n",
       "      <td>2</td>\n",
       "      <td>convex</td>\n",
       "      <td>['convex_202003061327250047ABD_score.mat', 'co...</td>\n",
       "      <td>ee33bf3d12134c5f9c2b67e09415316a</td>\n",
       "      <td>Paziente 1</td>\n",
       "      <td>ea421172c0515cb11eaefecb90906ca1</td>\n",
       "      <td>Brescia</td>\n",
       "      <td>000653.npy</td>\n",
       "    </tr>\n",
       "    <tr>\n",
       "      <th>654</th>\n",
       "      <td>654</td>\n",
       "      <td>[1 1 0]</td>\n",
       "      <td>3</td>\n",
       "      <td>convex</td>\n",
       "      <td>['convex_202003061327250047ABD_score.mat', 'co...</td>\n",
       "      <td>ee33bf3d12134c5f9c2b67e09415316a</td>\n",
       "      <td>Paziente 1</td>\n",
       "      <td>ea421172c0515cb11eaefecb90906ca1</td>\n",
       "      <td>Brescia</td>\n",
       "      <td>000654.npy</td>\n",
       "    </tr>\n",
       "    <tr>\n",
       "      <th>655</th>\n",
       "      <td>655</td>\n",
       "      <td>[1 1 0]</td>\n",
       "      <td>4</td>\n",
       "      <td>convex</td>\n",
       "      <td>['convex_202003061327250047ABD_score.mat', 'co...</td>\n",
       "      <td>ee33bf3d12134c5f9c2b67e09415316a</td>\n",
       "      <td>Paziente 1</td>\n",
       "      <td>ea421172c0515cb11eaefecb90906ca1</td>\n",
       "      <td>Brescia</td>\n",
       "      <td>000655.npy</td>\n",
       "    </tr>\n",
       "  </tbody>\n",
       "</table>\n",
       "</div>"
      ],
      "text/plain": [
       "     Unnamed: 0    label  frame_pos  sensor  \\\n",
       "651         651  [1 1 0]          0  convex   \n",
       "652         652  [1 1 0]          1  convex   \n",
       "653         653  [1 1 0]          2  convex   \n",
       "654         654  [1 1 0]          3  convex   \n",
       "655         655  [1 1 0]          4  convex   \n",
       "\n",
       "                                         raw_filenames  \\\n",
       "651  ['convex_202003061327250047ABD_score.mat', 'co...   \n",
       "652  ['convex_202003061327250047ABD_score.mat', 'co...   \n",
       "653  ['convex_202003061327250047ABD_score.mat', 'co...   \n",
       "654  ['convex_202003061327250047ABD_score.mat', 'co...   \n",
       "655  ['convex_202003061327250047ABD_score.mat', 'co...   \n",
       "\n",
       "                           video_hash     patient  \\\n",
       "651  ee33bf3d12134c5f9c2b67e09415316a  Paziente 1   \n",
       "652  ee33bf3d12134c5f9c2b67e09415316a  Paziente 1   \n",
       "653  ee33bf3d12134c5f9c2b67e09415316a  Paziente 1   \n",
       "654  ee33bf3d12134c5f9c2b67e09415316a  Paziente 1   \n",
       "655  ee33bf3d12134c5f9c2b67e09415316a  Paziente 1   \n",
       "\n",
       "                         patient_hash hospital    filename  \n",
       "651  ea421172c0515cb11eaefecb90906ca1  Brescia  000651.npy  \n",
       "652  ea421172c0515cb11eaefecb90906ca1  Brescia  000652.npy  \n",
       "653  ea421172c0515cb11eaefecb90906ca1  Brescia  000653.npy  \n",
       "654  ea421172c0515cb11eaefecb90906ca1  Brescia  000654.npy  \n",
       "655  ea421172c0515cb11eaefecb90906ca1  Brescia  000655.npy  "
      ]
     },
     "execution_count": 5,
     "metadata": {},
     "output_type": "execute_result"
    }
   ],
   "source": [
    "category_1.head()"
   ]
  },
  {
   "cell_type": "code",
   "execution_count": 90,
   "metadata": {
    "collapsed": true
   },
   "outputs": [],
   "source": [
    "import numpy as np\n",
    "num_classes=4\n",
    "num_videos=10\n",
    "num_frames=1000\n",
    "\n",
    "\n",
    "Y_train=np.zeros((num_classes,num_videos,num_frames,1))"
   ]
  },
  {
   "cell_type": "code",
   "execution_count": 91,
   "metadata": {},
   "outputs": [
    {
     "data": {
      "text/plain": [
       "(4, 10, 1000, 1)"
      ]
     },
     "execution_count": 91,
     "metadata": {},
     "output_type": "execute_result"
    }
   ],
   "source": [
    "Y_train.shape"
   ]
  },
  {
   "cell_type": "code",
   "execution_count": 23,
   "metadata": {},
   "outputs": [
    {
     "ename": "ValueError",
     "evalue": "could not broadcast input array from shape (198) into shape (198,1)",
     "output_type": "error",
     "traceback": [
      "\u001b[1;31m---------------------------------------------------------------------------\u001b[0m",
      "\u001b[1;31mValueError\u001b[0m                                Traceback (most recent call last)",
      "\u001b[1;32m<ipython-input-23-90ac43c754e6>\u001b[0m in \u001b[0;36m<module>\u001b[1;34m()\u001b[0m\n\u001b[1;32m----> 1\u001b[1;33m \u001b[0mY_train\u001b[0m\u001b[1;33m[\u001b[0m\u001b[1;36m0\u001b[0m\u001b[1;33m,\u001b[0m\u001b[1;36m0\u001b[0m\u001b[1;33m]\u001b[0m\u001b[1;33m=\u001b[0m\u001b[0mcategory\u001b[0m\u001b[1;33m.\u001b[0m\u001b[0miloc\u001b[0m\u001b[1;33m[\u001b[0m\u001b[1;36m1021\u001b[0m\u001b[1;33m:\u001b[0m\u001b[1;36m1219\u001b[0m\u001b[1;33m,\u001b[0m \u001b[1;36m2\u001b[0m\u001b[1;33m]\u001b[0m\u001b[1;33m\u001b[0m\u001b[0m\n\u001b[0m",
      "\u001b[1;31mValueError\u001b[0m: could not broadcast input array from shape (198) into shape (198,1)"
     ]
    }
   ],
   "source": [
    "Y_train[0,0]=category]"
   ]
  },
  {
   "cell_type": "code",
   "execution_count": 32,
   "metadata": {},
   "outputs": [],
   "source": [
    "train_lab=category[[\"label\",\"raw_filenames\",\"frame_pos\"]]"
   ]
  },
  {
   "cell_type": "code",
   "execution_count": 33,
   "metadata": {},
   "outputs": [
    {
     "data": {
      "text/html": [
       "<div>\n",
       "<style>\n",
       "    .dataframe thead tr:only-child th {\n",
       "        text-align: right;\n",
       "    }\n",
       "\n",
       "    .dataframe thead th {\n",
       "        text-align: left;\n",
       "    }\n",
       "\n",
       "    .dataframe tbody tr th {\n",
       "        vertical-align: top;\n",
       "    }\n",
       "</style>\n",
       "<table border=\"1\" class=\"dataframe\">\n",
       "  <thead>\n",
       "    <tr style=\"text-align: right;\">\n",
       "      <th></th>\n",
       "      <th>label</th>\n",
       "      <th>raw_filenames</th>\n",
       "      <th>frame_pos</th>\n",
       "    </tr>\n",
       "  </thead>\n",
       "  <tbody>\n",
       "    <tr>\n",
       "      <th>0</th>\n",
       "      <td>[1 1 1]</td>\n",
       "      <td>['convex_LUS1_score.mat', 'convex_LUS1.mat']</td>\n",
       "      <td>0</td>\n",
       "    </tr>\n",
       "    <tr>\n",
       "      <th>1</th>\n",
       "      <td>[1 1 1]</td>\n",
       "      <td>['convex_LUS1_score.mat', 'convex_LUS1.mat']</td>\n",
       "      <td>1</td>\n",
       "    </tr>\n",
       "    <tr>\n",
       "      <th>2</th>\n",
       "      <td>[1 1 1]</td>\n",
       "      <td>['convex_LUS1_score.mat', 'convex_LUS1.mat']</td>\n",
       "      <td>2</td>\n",
       "    </tr>\n",
       "    <tr>\n",
       "      <th>3</th>\n",
       "      <td>[1 1 1]</td>\n",
       "      <td>['convex_LUS1_score.mat', 'convex_LUS1.mat']</td>\n",
       "      <td>3</td>\n",
       "    </tr>\n",
       "    <tr>\n",
       "      <th>4</th>\n",
       "      <td>[1 1 1]</td>\n",
       "      <td>['convex_LUS1_score.mat', 'convex_LUS1.mat']</td>\n",
       "      <td>4</td>\n",
       "    </tr>\n",
       "  </tbody>\n",
       "</table>\n",
       "</div>"
      ],
      "text/plain": [
       "     label                                 raw_filenames  frame_pos\n",
       "0  [1 1 1]  ['convex_LUS1_score.mat', 'convex_LUS1.mat']          0\n",
       "1  [1 1 1]  ['convex_LUS1_score.mat', 'convex_LUS1.mat']          1\n",
       "2  [1 1 1]  ['convex_LUS1_score.mat', 'convex_LUS1.mat']          2\n",
       "3  [1 1 1]  ['convex_LUS1_score.mat', 'convex_LUS1.mat']          3\n",
       "4  [1 1 1]  ['convex_LUS1_score.mat', 'convex_LUS1.mat']          4"
      ]
     },
     "execution_count": 33,
     "metadata": {},
     "output_type": "execute_result"
    }
   ],
   "source": [
    "train_lab.head()"
   ]
  },
  {
   "cell_type": "code",
   "execution_count": null,
   "metadata": {},
   "outputs": [],
   "source": []
  },
  {
   "cell_type": "code",
   "execution_count": null,
   "metadata": {},
   "outputs": [],
   "source": []
  },
  {
   "cell_type": "code",
   "execution_count": null,
   "metadata": {},
   "outputs": [],
   "source": []
  },
  {
   "cell_type": "code",
   "execution_count": null,
   "metadata": {},
   "outputs": [],
   "source": []
  },
  {
   "cell_type": "code",
   "execution_count": 147,
   "metadata": {},
   "outputs": [],
   "source": [
    "criteria = train_lab['raw_filenames'] == \"['convex_202003181411300131ABD_score.mat', 'convex_202003181411300131ABD.mat']\""
   ]
  },
  {
   "cell_type": "code",
   "execution_count": 148,
   "metadata": {},
   "outputs": [],
   "source": [
    "train_lab_1=train_lab[criteria] "
   ]
  },
  {
   "cell_type": "code",
   "execution_count": 159,
   "metadata": {},
   "outputs": [],
   "source": [
    "criteria_2=train_lab_1['label']==\"[0 0 0]\""
   ]
  },
  {
   "cell_type": "code",
   "execution_count": 160,
   "metadata": {},
   "outputs": [],
   "source": [
    "train_lab_2=train_lab_1[criteria_2]"
   ]
  },
  {
   "cell_type": "code",
   "execution_count": 161,
   "metadata": {},
   "outputs": [
    {
     "data": {
      "text/plain": [
       "91"
      ]
     },
     "execution_count": 161,
     "metadata": {},
     "output_type": "execute_result"
    }
   ],
   "source": [
    "len(train_lab_2.frame_pos)"
   ]
  },
  {
   "cell_type": "code",
   "execution_count": 162,
   "metadata": {},
   "outputs": [],
   "source": [
    "for i in range (len(train_lab_2.frame_pos)):\n",
    "    \n",
    "    Y_train[3,4,i,0]=train_lab_2.frame_pos.iloc[i]\n",
    "    \n",
    "\n"
   ]
  },
  {
   "cell_type": "code",
   "execution_count": 88,
   "metadata": {},
   "outputs": [
    {
     "data": {
      "text/plain": [
       "502"
      ]
     },
     "execution_count": 88,
     "metadata": {},
     "output_type": "execute_result"
    }
   ],
   "source": [
    "criteria_2=train_lab_1['label']==\"[1 1 0]\"\n",
    "train_lab_2=train_lab_1[criteria_2]\n",
    "len(train_lab_2.frame_pos)"
   ]
  },
  {
   "cell_type": "code",
   "execution_count": 89,
   "metadata": {},
   "outputs": [
    {
     "data": {
      "text/plain": [
       "651       0\n",
       "652       1\n",
       "653       2\n",
       "654       3\n",
       "655       4\n",
       "656       5\n",
       "657       6\n",
       "658       7\n",
       "659       8\n",
       "660       9\n",
       "661      10\n",
       "662      11\n",
       "663      12\n",
       "664      13\n",
       "665      14\n",
       "666      15\n",
       "667      16\n",
       "668      17\n",
       "669      18\n",
       "670      19\n",
       "671      20\n",
       "672      21\n",
       "673      22\n",
       "674      23\n",
       "675      24\n",
       "676      25\n",
       "677      26\n",
       "678      27\n",
       "679      28\n",
       "680      29\n",
       "       ... \n",
       "1188    537\n",
       "1189    538\n",
       "1191    540\n",
       "1192    541\n",
       "1193    542\n",
       "1194    543\n",
       "1195    544\n",
       "1196    545\n",
       "1197    546\n",
       "1198    547\n",
       "1199    548\n",
       "1200    549\n",
       "1201    550\n",
       "1202    551\n",
       "1203    552\n",
       "1204    553\n",
       "1205    554\n",
       "1206    555\n",
       "1207    556\n",
       "1208    557\n",
       "1220    569\n",
       "1221    570\n",
       "1222    571\n",
       "1223    572\n",
       "1224    573\n",
       "1225    574\n",
       "1226    575\n",
       "1227    576\n",
       "1228    577\n",
       "1229    578\n",
       "Name: frame_pos, Length: 502, dtype: int64"
      ]
     },
     "execution_count": 89,
     "metadata": {},
     "output_type": "execute_result"
    }
   ],
   "source": [
    "train_lab_2.frame_pos"
   ]
  },
  {
   "cell_type": "code",
   "execution_count": 92,
   "metadata": {
    "collapsed": true
   },
   "outputs": [],
   "source": [
    "for i in range (len(train_lab_2.frame_pos)):\n",
    "    \n",
    "    Y_train[1,0,i,0]=train_lab_2.frame_pos.iloc[i]\n",
    "    "
   ]
  },
  {
   "cell_type": "code",
   "execution_count": 95,
   "metadata": {},
   "outputs": [
    {
     "data": {
      "text/plain": [
       "29"
      ]
     },
     "execution_count": 95,
     "metadata": {},
     "output_type": "execute_result"
    }
   ],
   "source": [
    "criteria_2=train_lab_1['label']==\"[0 0 0]\"\n",
    "train_lab_2=train_lab_1[criteria_2]\n",
    "len(train_lab_2.frame_pos)"
   ]
  },
  {
   "cell_type": "code",
   "execution_count": 96,
   "metadata": {
    "collapsed": true
   },
   "outputs": [],
   "source": [
    "for i in range (len(train_lab_2.frame_pos)):\n",
    "    \n",
    "    Y_train[3,0,i,0]=train_lab_2.frame_pos.iloc[i]"
   ]
  },
  {
   "cell_type": "code",
   "execution_count": null,
   "metadata": {
    "collapsed": true
   },
   "outputs": [],
   "source": []
  }
 ],
 "metadata": {
  "kernelspec": {
   "display_name": "Python 3",
   "language": "python",
   "name": "python3"
  },
  "language_info": {
   "codemirror_mode": {
    "name": "ipython",
    "version": 3
   },
   "file_extension": ".py",
   "mimetype": "text/x-python",
   "name": "python",
   "nbconvert_exporter": "python",
   "pygments_lexer": "ipython3",
   "version": "3.6.3"
  }
 },
 "nbformat": 4,
 "nbformat_minor": 2
}
