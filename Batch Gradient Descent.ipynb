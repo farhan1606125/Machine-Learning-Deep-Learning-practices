{
 "cells": [
  {
   "cell_type": "code",
   "execution_count": 1,
   "metadata": {},
   "outputs": [
    {
     "ename": "SyntaxError",
     "evalue": "invalid syntax (<ipython-input-1-dd372723dbf8>, line 18)",
     "output_type": "error",
     "traceback": [
      "\u001b[1;36m  File \u001b[1;32m\"<ipython-input-1-dd372723dbf8>\"\u001b[1;36m, line \u001b[1;32m18\u001b[0m\n\u001b[1;33m    eta= #Learning rate\u001b[0m\n\u001b[1;37m                       ^\u001b[0m\n\u001b[1;31mSyntaxError\u001b[0m\u001b[1;31m:\u001b[0m invalid syntax\n"
     ]
    }
   ],
   "source": [
    "\n",
    "\n",
    "\n",
    "import numpy as np\n",
    "\n",
    "import matplotlib.pyplot as plt\n",
    "\n",
    "X=2*np.random.rand(100,100)\n",
    "\n",
    "y=4+3*X+np.random.rand(100,100)\n",
    "\n",
    "plt.scatter(X,y)\n",
    "\n",
    "X_b=np.c_[np.ones((100,100)),X] #add x0=1 to each instant \n",
    "\n",
    "\n",
    "\n",
    "eta= #Learning rate\n",
    "\n",
    "\n",
    "\n",
    "n_iterations=1000\n",
    "\n",
    "m=100\n",
    "\n",
    "theta = np.random.randn(2,1) #random initialization\n",
    "\n",
    "for iteration in range(n_iterations):\n",
    "    \n",
    "    gradients= 2/m * X_b.T.dot(X_b.dot(theta) - y)\n",
    "    \n",
    "    \n",
    "    theta = theta -eta*gradients\n",
    "    \n",
    " #testing\n",
    "\n",
    "X_new=np.array([[0],[2]])\n",
    "\n",
    "X_new_b = np.c_[np.ones((2,1)),X_new]\n",
    "\n",
    "y_predict = X_new_b.dot(theta)\n",
    "\n",
    "plt.plot(X_new,y_predict,'r-')\n",
    "\n",
    "plt.plot(X,y,\"b.\")\n",
    "\n",
    "plt.axis([0,2,0,15])\n",
    "\n",
    "plt.show()"
   ]
  },
  {
   "cell_type": "code",
   "execution_count": 2,
   "metadata": {},
   "outputs": [
    {
     "ename": "NameError",
     "evalue": "name 'theta' is not defined",
     "output_type": "error",
     "traceback": [
      "\u001b[1;31m---------------------------------------------------------------------------\u001b[0m",
      "\u001b[1;31mNameError\u001b[0m                                 Traceback (most recent call last)",
      "\u001b[1;32m<ipython-input-2-dde607ddc995>\u001b[0m in \u001b[0;36m<module>\u001b[1;34m\u001b[0m\n\u001b[1;32m----> 1\u001b[1;33m \u001b[0mtheta\u001b[0m\u001b[1;33m\u001b[0m\u001b[1;33m\u001b[0m\u001b[0m\n\u001b[0m",
      "\u001b[1;31mNameError\u001b[0m: name 'theta' is not defined"
     ]
    }
   ],
   "source": [
    "theta"
   ]
  },
  {
   "cell_type": "code",
   "execution_count": null,
   "metadata": {},
   "outputs": [],
   "source": []
  }
 ],
 "metadata": {
  "kernelspec": {
   "display_name": "Python 3",
   "language": "python",
   "name": "python3"
  },
  "language_info": {
   "codemirror_mode": {
    "name": "ipython",
    "version": 3
   },
   "file_extension": ".py",
   "mimetype": "text/x-python",
   "name": "python",
   "nbconvert_exporter": "python",
   "pygments_lexer": "ipython3",
   "version": "3.6.8"
  }
 },
 "nbformat": 4,
 "nbformat_minor": 2
}
